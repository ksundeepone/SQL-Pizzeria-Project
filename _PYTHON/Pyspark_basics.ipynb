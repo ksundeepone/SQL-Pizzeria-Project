{
 "cells": [
  {
   "cell_type": "code",
   "execution_count": 1,
   "id": "ac74bc70",
   "metadata": {},
   "outputs": [],
   "source": [
    "from pyspark.sql import SparkSession"
   ]
  },
  {
   "cell_type": "code",
   "execution_count": 2,
   "id": "6b28be89",
   "metadata": {},
   "outputs": [
    {
     "name": "stderr",
     "output_type": "stream",
     "text": [
      "Setting default log level to \"WARN\".\n",
      "To adjust logging level use sc.setLogLevel(newLevel). For SparkR, use setLogLevel(newLevel).\n",
      "23/10/18 16:24:58 WARN NativeCodeLoader: Unable to load native-hadoop library for your platform... using builtin-java classes where applicable\n"
     ]
    }
   ],
   "source": [
    "spark = SparkSession.builder.appName('Sptfy').getOrCreate()"
   ]
  },
  {
   "cell_type": "code",
   "execution_count": 3,
   "id": "fce2cb2f",
   "metadata": {},
   "outputs": [
    {
     "name": "stderr",
     "output_type": "stream",
     "text": [
      "                                                                                \r"
     ]
    }
   ],
   "source": [
    "dataframe = spark.read.csv('/Users/sundeepk/Desktop/spt.csv', header = True, inferSchema = True)"
   ]
  },
  {
   "cell_type": "code",
   "execution_count": 4,
   "id": "b598979f",
   "metadata": {},
   "outputs": [
    {
     "name": "stdout",
     "output_type": "stream",
     "text": [
      "+--------------------+--------------------+------------+-------------+--------------+------------+--------------------+\n",
      "|          track_name|      artist(s)_name|artist_count|released_year|released_month|released_day|in_spotify_playlists|\n",
      "+--------------------+--------------------+------------+-------------+--------------+------------+--------------------+\n",
      "|Seven (feat. Latt...|    Latto, Jung Kook|           2|         2023|             7|          14|                 553|\n",
      "|                LALA|         Myke Towers|           1|         2023|             3|          23|                1474|\n",
      "|             vampire|      Olivia Rodrigo|           1|         2023|             6|          30|                1397|\n",
      "|        Cruel Summer|        Taylor Swift|           1|         2019|             8|          23|                7858|\n",
      "|      WHERE SHE GOES|           Bad Bunny|           1|         2023|             5|          18|                3133|\n",
      "|            Sprinter|   Dave, Central Cee|           2|         2023|             6|           1|                2186|\n",
      "|     Ella Baila Sola|Eslabon Armado, P...|           2|         2023|             3|          16|                3090|\n",
      "|            Columbia|             Quevedo|           1|         2023|             7|           7|                 714|\n",
      "|            fukumean|               Gunna|           1|         2023|             5|          15|                1096|\n",
      "|     La Bebe - Remix|Peso Pluma, Yng L...|           2|         2023|             3|          17|                2953|\n",
      "+--------------------+--------------------+------------+-------------+--------------+------------+--------------------+\n",
      "\n"
     ]
    }
   ],
   "source": [
    "dataframe.show()"
   ]
  },
  {
   "cell_type": "code",
   "execution_count": 5,
   "id": "d5d58f7b",
   "metadata": {},
   "outputs": [
    {
     "name": "stdout",
     "output_type": "stream",
     "text": [
      "root\n",
      " |-- track_name: string (nullable = true)\n",
      " |-- artist(s)_name: string (nullable = true)\n",
      " |-- artist_count: integer (nullable = true)\n",
      " |-- released_year: integer (nullable = true)\n",
      " |-- released_month: integer (nullable = true)\n",
      " |-- released_day: integer (nullable = true)\n",
      " |-- in_spotify_playlists: integer (nullable = true)\n",
      "\n"
     ]
    }
   ],
   "source": [
    "dataframe.printSchema()"
   ]
  },
  {
   "cell_type": "code",
   "execution_count": 6,
   "id": "638c800c",
   "metadata": {},
   "outputs": [],
   "source": [
    "dataframe = dataframe.withColumn('Extra', dataframe['released_day'])"
   ]
  },
  {
   "cell_type": "code",
   "execution_count": 7,
   "id": "718adac6",
   "metadata": {},
   "outputs": [
    {
     "name": "stdout",
     "output_type": "stream",
     "text": [
      "root\n",
      " |-- track_name: string (nullable = true)\n",
      " |-- artist(s)_name: string (nullable = true)\n",
      " |-- artist_count: integer (nullable = true)\n",
      " |-- released_year: integer (nullable = true)\n",
      " |-- released_month: integer (nullable = true)\n",
      " |-- released_day: integer (nullable = true)\n",
      " |-- in_spotify_playlists: integer (nullable = true)\n",
      " |-- Extra: integer (nullable = true)\n",
      "\n"
     ]
    }
   ],
   "source": [
    "dataframe.printSchema()"
   ]
  },
  {
   "cell_type": "code",
   "execution_count": 8,
   "id": "7c12873e",
   "metadata": {
    "scrolled": true
   },
   "outputs": [
    {
     "name": "stdout",
     "output_type": "stream",
     "text": [
      "+--------------------+-------------+--------------------+\n",
      "|          track_name|released_year|in_spotify_playlists|\n",
      "+--------------------+-------------+--------------------+\n",
      "|Seven (feat. Latt...|         2023|                 553|\n",
      "|                LALA|         2023|                1474|\n",
      "|             vampire|         2023|                1397|\n",
      "|        Cruel Summer|         2019|                7858|\n",
      "|      WHERE SHE GOES|         2023|                3133|\n",
      "|            Sprinter|         2023|                2186|\n",
      "|     Ella Baila Sola|         2023|                3090|\n",
      "|            Columbia|         2023|                 714|\n",
      "|            fukumean|         2023|                1096|\n",
      "|     La Bebe - Remix|         2023|                2953|\n",
      "+--------------------+-------------+--------------------+\n",
      "\n"
     ]
    }
   ],
   "source": [
    "dataframe.select('track_name','released_year', 'in_spotify_playlists').show()"
   ]
  },
  {
   "cell_type": "code",
   "execution_count": 9,
   "id": "30022cfb",
   "metadata": {},
   "outputs": [
    {
     "data": {
      "text/plain": [
       "[('track_name', 'string'),\n",
       " ('artist(s)_name', 'string'),\n",
       " ('artist_count', 'int'),\n",
       " ('released_year', 'int'),\n",
       " ('released_month', 'int'),\n",
       " ('released_day', 'int'),\n",
       " ('in_spotify_playlists', 'int'),\n",
       " ('Extra', 'int')]"
      ]
     },
     "execution_count": 9,
     "metadata": {},
     "output_type": "execute_result"
    }
   ],
   "source": [
    "dataframe.dtypes"
   ]
  },
  {
   "cell_type": "code",
   "execution_count": 10,
   "id": "40dab387",
   "metadata": {},
   "outputs": [],
   "source": [
    "dataframe = dataframe.withColumnRenamed('released_day', 'released_DAY')\n"
   ]
  },
  {
   "cell_type": "code",
   "execution_count": 11,
   "id": "f2c7b745",
   "metadata": {},
   "outputs": [
    {
     "data": {
      "text/plain": [
       "[('track_name', 'string'),\n",
       " ('artist(s)_name', 'string'),\n",
       " ('artist_count', 'int'),\n",
       " ('released_year', 'int'),\n",
       " ('released_month', 'int'),\n",
       " ('released_DAY', 'int'),\n",
       " ('in_spotify_playlists', 'int'),\n",
       " ('Extra', 'int')]"
      ]
     },
     "execution_count": 11,
     "metadata": {},
     "output_type": "execute_result"
    }
   ],
   "source": [
    "dataframe.dtypes"
   ]
  },
  {
   "cell_type": "code",
   "execution_count": 12,
   "id": "97d6d5a0",
   "metadata": {},
   "outputs": [],
   "source": [
    "dataframe = dataframe.withColumn('new_column', dataframe['in_spotify_playlists']*100)\n"
   ]
  },
  {
   "cell_type": "code",
   "execution_count": 13,
   "id": "519945e2",
   "metadata": {},
   "outputs": [],
   "source": [
    "dataframe = dataframe.withColumn('Artist_age', dataframe['released_year']-25)"
   ]
  },
  {
   "cell_type": "code",
   "execution_count": 14,
   "id": "3c1c82b5",
   "metadata": {},
   "outputs": [
    {
     "name": "stdout",
     "output_type": "stream",
     "text": [
      "+----------+-------------+\n",
      "|Artist_age|released_year|\n",
      "+----------+-------------+\n",
      "|      1998|         2023|\n",
      "|      1998|         2023|\n",
      "|      1998|         2023|\n",
      "|      1994|         2019|\n",
      "|      1998|         2023|\n",
      "|      1998|         2023|\n",
      "|      1998|         2023|\n",
      "|      1998|         2023|\n",
      "|      1998|         2023|\n",
      "|      1998|         2023|\n",
      "+----------+-------------+\n",
      "\n"
     ]
    }
   ],
   "source": [
    "dataframe.select('Artist_age', 'released_year').show()"
   ]
  },
  {
   "cell_type": "code",
   "execution_count": 15,
   "id": "2bdfc20c",
   "metadata": {},
   "outputs": [
    {
     "name": "stdout",
     "output_type": "stream",
     "text": [
      "+----------+--------------------+\n",
      "|new_column|in_spotify_playlists|\n",
      "+----------+--------------------+\n",
      "|     55300|                 553|\n",
      "|    147400|                1474|\n",
      "|    139700|                1397|\n",
      "|    785800|                7858|\n",
      "|    313300|                3133|\n",
      "|    218600|                2186|\n",
      "|    309000|                3090|\n",
      "|     71400|                 714|\n",
      "|    109600|                1096|\n",
      "|    295300|                2953|\n",
      "+----------+--------------------+\n",
      "\n"
     ]
    }
   ],
   "source": [
    "dataframe.select('new_column', 'in_spotify_playlists').show(12)"
   ]
  },
  {
   "cell_type": "code",
   "execution_count": 16,
   "id": "55a760ab",
   "metadata": {},
   "outputs": [
    {
     "data": {
      "text/plain": [
       "['track_name',\n",
       " 'artist(s)_name',\n",
       " 'artist_count',\n",
       " 'released_year',\n",
       " 'released_month',\n",
       " 'released_DAY',\n",
       " 'in_spotify_playlists',\n",
       " 'Extra',\n",
       " 'new_column',\n",
       " 'Artist_age']"
      ]
     },
     "execution_count": 16,
     "metadata": {},
     "output_type": "execute_result"
    }
   ],
   "source": [
    "dataframe.columns"
   ]
  },
  {
   "cell_type": "code",
   "execution_count": 17,
   "id": "e531ed6b",
   "metadata": {},
   "outputs": [],
   "source": [
    "dataframe = dataframe.drop('new_column')"
   ]
  },
  {
   "cell_type": "code",
   "execution_count": 18,
   "id": "46efbbf8",
   "metadata": {
    "scrolled": true
   },
   "outputs": [
    {
     "name": "stdout",
     "output_type": "stream",
     "text": [
      "root\n",
      " |-- track_name: string (nullable = true)\n",
      " |-- artist(s)_name: string (nullable = true)\n",
      " |-- artist_count: integer (nullable = true)\n",
      " |-- released_year: integer (nullable = true)\n",
      " |-- released_month: integer (nullable = true)\n",
      " |-- released_DAY: integer (nullable = true)\n",
      " |-- in_spotify_playlists: integer (nullable = true)\n",
      " |-- Extra: integer (nullable = true)\n",
      " |-- Artist_age: integer (nullable = true)\n",
      "\n"
     ]
    }
   ],
   "source": [
    "dataframe.printSchema()"
   ]
  },
  {
   "cell_type": "code",
   "execution_count": 19,
   "id": "ecbdd635",
   "metadata": {},
   "outputs": [
    {
     "name": "stderr",
     "output_type": "stream",
     "text": [
      "23/10/18 16:25:09 WARN SparkStringUtils: Truncated the string representation of a plan since it was too large. This behavior can be adjusted by setting 'spark.sql.debug.maxToStringFields'.\n",
      "                                                                                \r"
     ]
    },
    {
     "name": "stdout",
     "output_type": "stream",
     "text": [
      "+-------+----------+--------------+------------------+------------------+------------------+-----------------+--------------------+-----------------+------------------+\n",
      "|summary|track_name|artist(s)_name|      artist_count|     released_year|    released_month|     released_DAY|in_spotify_playlists|            Extra|        Artist_age|\n",
      "+-------+----------+--------------+------------------+------------------+------------------+-----------------+--------------------+-----------------+------------------+\n",
      "|  count|        10|            10|                10|                10|                10|               10|                  10|               10|                10|\n",
      "|   mean|      NULL|          NULL|               1.4|            2022.6|               5.3|             16.4|              2445.4|             16.4|            1997.6|\n",
      "| stddev|      NULL|          NULL|0.5163977794943222|1.2649110640673322|1.8287822299126937|8.221921916437786|   2133.126354542657|8.221921916437786|1.2649110640673322|\n",
      "|    min|  Columbia|     Bad Bunny|                 1|              2019|                 3|                1|                 553|                1|              1994|\n",
      "|    max|   vampire|  Taylor Swift|                 2|              2023|                 8|               30|                7858|               30|              1998|\n",
      "+-------+----------+--------------+------------------+------------------+------------------+-----------------+--------------------+-----------------+------------------+\n",
      "\n"
     ]
    }
   ],
   "source": [
    "dataframe.describe().show()"
   ]
  },
  {
   "cell_type": "code",
   "execution_count": 20,
   "id": "9a207b16",
   "metadata": {},
   "outputs": [
    {
     "data": {
      "text/plain": [
       "[Row(track_name='Seven (feat. Latto) (Explicit Ver.)', artist(s)_name='Latto, Jung Kook', artist_count=2, released_year=2023, released_month=7, released_DAY=14, in_spotify_playlists=553, Extra=14, Artist_age=1998),\n",
       " Row(track_name='LALA', artist(s)_name='Myke Towers', artist_count=1, released_year=2023, released_month=3, released_DAY=23, in_spotify_playlists=1474, Extra=23, Artist_age=1998),\n",
       " Row(track_name='vampire', artist(s)_name='Olivia Rodrigo', artist_count=1, released_year=2023, released_month=6, released_DAY=30, in_spotify_playlists=1397, Extra=30, Artist_age=1998),\n",
       " Row(track_name='Cruel Summer', artist(s)_name='Taylor Swift', artist_count=1, released_year=2019, released_month=8, released_DAY=23, in_spotify_playlists=7858, Extra=23, Artist_age=1994),\n",
       " Row(track_name='WHERE SHE GOES', artist(s)_name='Bad Bunny', artist_count=1, released_year=2023, released_month=5, released_DAY=18, in_spotify_playlists=3133, Extra=18, Artist_age=1998),\n",
       " Row(track_name='Sprinter', artist(s)_name='Dave, Central Cee', artist_count=2, released_year=2023, released_month=6, released_DAY=1, in_spotify_playlists=2186, Extra=1, Artist_age=1998),\n",
       " Row(track_name='Ella Baila Sola', artist(s)_name='Eslabon Armado, Peso Pluma', artist_count=2, released_year=2023, released_month=3, released_DAY=16, in_spotify_playlists=3090, Extra=16, Artist_age=1998),\n",
       " Row(track_name='Columbia', artist(s)_name='Quevedo', artist_count=1, released_year=2023, released_month=7, released_DAY=7, in_spotify_playlists=714, Extra=7, Artist_age=1998),\n",
       " Row(track_name='fukumean', artist(s)_name='Gunna', artist_count=1, released_year=2023, released_month=5, released_DAY=15, in_spotify_playlists=1096, Extra=15, Artist_age=1998),\n",
       " Row(track_name='La Bebe - Remix', artist(s)_name='Peso Pluma, Yng Lvcas', artist_count=2, released_year=2023, released_month=3, released_DAY=17, in_spotify_playlists=2953, Extra=17, Artist_age=1998)]"
      ]
     },
     "execution_count": 20,
     "metadata": {},
     "output_type": "execute_result"
    }
   ],
   "source": [
    "dataframe.head(15)"
   ]
  },
  {
   "cell_type": "code",
   "execution_count": 21,
   "id": "ca2e33d5",
   "metadata": {
    "scrolled": true
   },
   "outputs": [
    {
     "data": {
      "text/plain": [
       "['track_name',\n",
       " 'artist(s)_name',\n",
       " 'artist_count',\n",
       " 'released_year',\n",
       " 'released_month',\n",
       " 'released_DAY',\n",
       " 'in_spotify_playlists',\n",
       " 'Extra',\n",
       " 'Artist_age']"
      ]
     },
     "execution_count": 21,
     "metadata": {},
     "output_type": "execute_result"
    }
   ],
   "source": [
    "dataframe.columns"
   ]
  },
  {
   "cell_type": "code",
   "execution_count": 23,
   "id": "d9fa22bf",
   "metadata": {},
   "outputs": [
    {
     "data": {
      "text/plain": [
       "DataFrame[track_name: string, artist(s)_name: string, artist_count: int, released_year: int, released_month: int, released_DAY: int, in_spotify_playlists: int, Extra: int, Artist_age: int]"
      ]
     },
     "execution_count": 23,
     "metadata": {},
     "output_type": "execute_result"
    }
   ],
   "source": [
    "dataframe.withColumnRenamed('Extras', 'Extra')"
   ]
  }
 ],
 "metadata": {
  "kernelspec": {
   "display_name": "Python 3 (ipykernel)",
   "language": "python",
   "name": "python3"
  },
  "language_info": {
   "codemirror_mode": {
    "name": "ipython",
    "version": 3
   },
   "file_extension": ".py",
   "mimetype": "text/x-python",
   "name": "python",
   "nbconvert_exporter": "python",
   "pygments_lexer": "ipython3",
   "version": "3.9.13"
  }
 },
 "nbformat": 4,
 "nbformat_minor": 5
}
